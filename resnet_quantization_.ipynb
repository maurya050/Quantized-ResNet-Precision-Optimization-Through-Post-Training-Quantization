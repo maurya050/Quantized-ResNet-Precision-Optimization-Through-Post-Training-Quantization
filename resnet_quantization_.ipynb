{
  "cells": [
    {
      "cell_type": "code",
      "execution_count": 1,
      "metadata": {
        "id": "RQ6Pl4-1oxln"
      },
      "outputs": [],
      "source": [
        "# import required packages\n",
        "import os\n",
        "import time\n",
        "import matplotlib.pyplot as plt\n",
        "import torch\n",
        "from torch.utils.data import DataLoader\n",
        "import torch.nn as nn\n",
        "import torch.nn.functional as F\n",
        "import torchvision\n",
        "from torchvision import transforms"
      ]
    },
    {
      "cell_type": "markdown",
      "metadata": {
        "id": "ikdNV7OUoxlu"
      },
      "source": [
        "### Load and visualize MNIST dataset"
      ]
    },
    {
      "cell_type": "code",
      "execution_count": 2,
      "metadata": {
        "id": "xf0frxDzoxlv",
        "outputId": "0a23e02c-f662-4c71-9844-3ddb7cfae3d3",
        "colab": {
          "base_uri": "https://localhost:8080/"
        }
      },
      "outputs": [
        {
          "output_type": "stream",
          "name": "stdout",
          "text": [
            "Downloading http://yann.lecun.com/exdb/mnist/train-images-idx3-ubyte.gz\n",
            "Downloading http://yann.lecun.com/exdb/mnist/train-images-idx3-ubyte.gz to ../data/MNIST/raw/train-images-idx3-ubyte.gz\n"
          ]
        },
        {
          "output_type": "stream",
          "name": "stderr",
          "text": [
            "100%|██████████| 9912422/9912422 [00:00<00:00, 99833380.74it/s]\n"
          ]
        },
        {
          "output_type": "stream",
          "name": "stdout",
          "text": [
            "Extracting ../data/MNIST/raw/train-images-idx3-ubyte.gz to ../data/MNIST/raw\n",
            "\n",
            "Downloading http://yann.lecun.com/exdb/mnist/train-labels-idx1-ubyte.gz\n",
            "Downloading http://yann.lecun.com/exdb/mnist/train-labels-idx1-ubyte.gz to ../data/MNIST/raw/train-labels-idx1-ubyte.gz\n"
          ]
        },
        {
          "output_type": "stream",
          "name": "stderr",
          "text": [
            "100%|██████████| 28881/28881 [00:00<00:00, 120055197.05it/s]\n"
          ]
        },
        {
          "output_type": "stream",
          "name": "stdout",
          "text": [
            "Extracting ../data/MNIST/raw/train-labels-idx1-ubyte.gz to ../data/MNIST/raw\n",
            "\n",
            "Downloading http://yann.lecun.com/exdb/mnist/t10k-images-idx3-ubyte.gz\n",
            "Downloading http://yann.lecun.com/exdb/mnist/t10k-images-idx3-ubyte.gz to ../data/MNIST/raw/t10k-images-idx3-ubyte.gz\n"
          ]
        },
        {
          "output_type": "stream",
          "name": "stderr",
          "text": [
            "100%|██████████| 1648877/1648877 [00:00<00:00, 26830323.07it/s]\n"
          ]
        },
        {
          "output_type": "stream",
          "name": "stdout",
          "text": [
            "Extracting ../data/MNIST/raw/t10k-images-idx3-ubyte.gz to ../data/MNIST/raw\n",
            "\n",
            "Downloading http://yann.lecun.com/exdb/mnist/t10k-labels-idx1-ubyte.gz\n",
            "Downloading http://yann.lecun.com/exdb/mnist/t10k-labels-idx1-ubyte.gz to ../data/MNIST/raw/t10k-labels-idx1-ubyte.gz\n"
          ]
        },
        {
          "output_type": "stream",
          "name": "stderr",
          "text": [
            "100%|██████████| 4542/4542 [00:00<00:00, 6796478.33it/s]\n"
          ]
        },
        {
          "output_type": "stream",
          "name": "stdout",
          "text": [
            "Extracting ../data/MNIST/raw/t10k-labels-idx1-ubyte.gz to ../data/MNIST/raw\n",
            "\n"
          ]
        }
      ],
      "source": [
        "train_loader = DataLoader(torchvision.datasets.MNIST('../data', train=True, download=True,\n",
        "                                                    transform=transforms.Compose([transforms.ToTensor(),\n",
        "                                                                        transforms.Normalize((0.1307,), (0.3081,))\n",
        "                                                    ])),\n",
        "               batch_size=64, shuffle=True, num_workers=1, pin_memory=True)\n",
        "\n",
        "test_loader = DataLoader(torchvision.datasets.MNIST('../data', train=False,\n",
        "                                                    transform=transforms.Compose([transforms.ToTensor(),\n",
        "                                                                        transforms.Normalize((0.1307,), (0.3081,))\n",
        "                                                    ])),\n",
        "              batch_size=64, shuffle=True, num_workers=1, pin_memory=True)"
      ]
    },
    {
      "cell_type": "code",
      "execution_count": 3,
      "metadata": {
        "id": "VvoerHT7oxl0",
        "outputId": "10e8f596-f3f2-4988-952e-53bd463acfd8",
        "colab": {
          "base_uri": "https://localhost:8080/",
          "height": 177
        }
      },
      "outputs": [
        {
          "output_type": "stream",
          "name": "stdout",
          "text": [
            "torch.Size([64, 1, 28, 28])\n",
            "torch.Size([64])\n"
          ]
        },
        {
          "output_type": "display_data",
          "data": {
            "text/plain": [
              "<Figure size 640x480 with 20 Axes>"
            ],
            "image/png": "[encoded data removed]"
          },
          "metadata": {}
        }
      ],
      "source": [
        "images, labels = next(iter(train_loader))\n",
        "\n",
        "print(images.shape)\n",
        "print(labels.shape)\n",
        "\n",
        "figure = plt.figure()\n",
        "num_of_images = 20\n",
        "for index in range(1, num_of_images + 1):\n",
        "    plt.subplot(6, 10, index)\n",
        "    plt.axis('off')\n",
        "    plt.imshow(images[index].numpy().squeeze(), cmap='gray_r')"
      ]
    },
    {
      "cell_type": "code",
      "execution_count": 4,
      "metadata": {
        "id": "B7icDb3Ooxl5"
      },
      "outputs": [],
      "source": [
        "def conv3x3(in_planes, out_planes, stride=1, groups=1, dilation=1):\n",
        "    \"\"\"3x3 convolution with padding\n",
        "\n",
        "    Args:\n",
        "        in_planes: number of channels in input image\n",
        "        out_planes: number of channels produced by convolution\n",
        "        stride: stride of the convolution. Default: 1\n",
        "        groups: Number of blocked connections from input channels to output channels. Default: 1\n",
        "        dilation (int or tuple, optional): Spacing between kernel elements. Default: 1\n",
        "\n",
        "    Returns:\n",
        "        Convoluted layer of kernel size=3, with specified out_planes\n",
        "\n",
        "    \"\"\"\n",
        "    return nn.Conv2d(in_planes, out_planes, kernel_size=3, stride=stride,\n",
        "                     padding=dilation, groups=groups, bias=False, dilation=dilation)\n",
        "\n",
        "\n",
        "def conv1x1(in_planes, out_planes, stride=1):\n",
        "    \"\"\"1x1 convolution\n",
        "\n",
        "    Args:\n",
        "        in_planes: number of channels in input image\n",
        "        out_planes: number of channels produced by convolution\n",
        "        stride: stride of the convolution. Default: 1\n",
        "\n",
        "    Returns:\n",
        "        Convoluted layer of kernel size=1, with specified out_planes\n",
        "\n",
        "    \"\"\"\n",
        "    return nn.Conv2d(in_planes, out_planes, kernel_size=1, stride=stride, bias=False)"
      ]
    },
    {
      "cell_type": "code",
      "execution_count": 5,
      "metadata": {
        "id": "6fx3oj__oxl7"
      },
      "outputs": [],
      "source": [
        "class BasicBlock(nn.Module):\n",
        "    expansion = 1\n",
        "\n",
        "    def __init__(self, inplanes, planes, stride=1, downsample=None, groups=1,\n",
        "                 base_width=64, dilation=1, norm_layer=None, quantize=False):\n",
        "        super(BasicBlock, self).__init__()\n",
        "        self.quantize = quantize\n",
        "        if norm_layer is None:\n",
        "            norm_layer = nn.BatchNorm2d\n",
        "        if groups != 1 or base_width != 64:\n",
        "            raise ValueError('BasicBlock only supports groups=1 and base_width=64')\n",
        "        if dilation > 1:\n",
        "            raise NotImplementedError(\"Dilation > 1 not supported in BasicBlock\")\n",
        "        # Both self.conv1 and self.downsample layers downsample the input when stride != 1\n",
        "        self.conv1 = conv3x3(inplanes, planes, stride)\n",
        "        self.bn1 = norm_layer(planes)\n",
        "        self.relu = nn.ReLU(inplace=True)\n",
        "        self.conv2 = conv3x3(planes, planes)\n",
        "        self.bn2 = norm_layer(planes)\n",
        "        self.downsample = downsample\n",
        "        self.stride = stride\n",
        "        # FloatFunction()\n",
        "        self.skip_add = nn.quantized.FloatFunctional()\n",
        "\n",
        "\n",
        "    def forward(self, x):\n",
        "        identity = x\n",
        "\n",
        "        out = self.conv1(x)\n",
        "        out = self.bn1(out)\n",
        "        out = self.relu(out)\n",
        "\n",
        "        out = self.conv2(out)\n",
        "        out = self.bn2(out)\n",
        "\n",
        "        if self.downsample is not None:\n",
        "            identity = self.downsample(x)\n",
        "\n",
        "        # Notice the addition operation in both scenarios\n",
        "        if self.quantize:\n",
        "            out = self.skip_add.add(out, identity)\n",
        "        else:\n",
        "            out += identity\n",
        "\n",
        "        out = self.relu(out)\n",
        "\n",
        "        return out\n",
        "\n",
        "\n",
        "class ResNet(nn.Module):\n",
        "\n",
        "    def __init__(self, block=BasicBlock, layers=[2, 2, 2, 2], num_classes=1000, zero_init_residual=False,\n",
        "                 groups=1, width_per_group=64, replace_stride_with_dilation=None,\n",
        "                 norm_layer=None, mnist=False, quantize=False):\n",
        "        super(ResNet, self).__init__()\n",
        "        self.quantize = quantize\n",
        "        if mnist:\n",
        "            num_channels = 1\n",
        "        else:\n",
        "            num_channels = 3\n",
        "        if norm_layer is None:\n",
        "            norm_layer = nn.BatchNorm2d\n",
        "        self._norm_layer = norm_layer\n",
        "\n",
        "        self.inplanes = 64\n",
        "        self.dilation = 1\n",
        "        if replace_stride_with_dilation is None:\n",
        "            # each element in the tuple indicates if we should replace\n",
        "            # the 2x2 stride with a dilated convolution instead.\n",
        "            replace_stride_with_dilation = [False, False, False]\n",
        "        if len(replace_stride_with_dilation) != 3:\n",
        "            raise ValueError(\"replace_stride_with_dilation should be None \"\n",
        "                             \"or a 3-element tuple, got {}\".format(replace_stride_with_dilation))\n",
        "        self.groups = groups\n",
        "        self.base_width = width_per_group\n",
        "        self.conv1 = nn.Conv2d(num_channels, self.inplanes, kernel_size=7, stride=2, padding=3,\n",
        "                               bias=False)\n",
        "        self.bn1 = norm_layer(self.inplanes)\n",
        "        self.relu = nn.ReLU(inplace=True)\n",
        "        self.maxpool = nn.MaxPool2d(kernel_size=3, stride=2, padding=1)\n",
        "        self.layer1 = self._make_layer(block, 64, layers[0])\n",
        "        self.layer2 = self._make_layer(block, 128, layers[1], stride=2,\n",
        "                                       dilate=replace_stride_with_dilation[0])\n",
        "        self.layer3 = self._make_layer(block, 256, layers[2], stride=2,\n",
        "                                       dilate=replace_stride_with_dilation[1])\n",
        "        self.layer4 = self._make_layer(block, 512, layers[3], stride=2,\n",
        "                                       dilate=replace_stride_with_dilation[2])\n",
        "        self.avgpool = nn.AdaptiveAvgPool2d((1, 1))\n",
        "        self.fc = nn.Linear(512 * block.expansion, num_classes)\n",
        "        self.quant = torch.quantization.QuantStub()\n",
        "        self.dequant = torch.quantization.DeQuantStub()\n",
        "\n",
        "        for m in self.modules():\n",
        "            if isinstance(m, nn.Conv2d):\n",
        "                nn.init.kaiming_normal_(m.weight, mode='fan_out', nonlinearity='relu')\n",
        "            elif isinstance(m, (nn.BatchNorm2d, nn.GroupNorm)):\n",
        "                nn.init.constant_(m.weight, 1)\n",
        "                nn.init.constant_(m.bias, 0)\n",
        "\n",
        "        # Zero-initialize the last BN in each residual branch,\n",
        "        # so that the residual branch starts with zeros, and each residual block behaves like an identity.\n",
        "        if zero_init_residual:\n",
        "            for m in self.modules():\n",
        "                if isinstance(m, Bottleneck):\n",
        "                    nn.init.constant_(m.bn3.weight, 0)\n",
        "                elif isinstance(m, BasicBlock):\n",
        "                    nn.init.constant_(m.bn2.weight, 0)\n",
        "\n",
        "    def _make_layer(self, block, planes, blocks, stride=1, dilate=False):\n",
        "        norm_layer = self._norm_layer\n",
        "        downsample = None\n",
        "        previous_dilation = self.dilation\n",
        "        if dilate:\n",
        "            self.dilation *= stride\n",
        "            stride = 1\n",
        "        if stride != 1 or self.inplanes != planes * block.expansion:\n",
        "            downsample = nn.Sequential(\n",
        "                conv1x1(self.inplanes, planes * block.expansion, stride),\n",
        "                norm_layer(planes * block.expansion),\n",
        "            )\n",
        "\n",
        "        layers = []\n",
        "        layers.append(block(self.inplanes, planes, stride, downsample, self.groups,\n",
        "                            self.base_width, previous_dilation, norm_layer, quantize=self.quantize))\n",
        "        self.inplanes = planes * block.expansion\n",
        "        for _ in range(1, blocks):\n",
        "            layers.append(block(self.inplanes, planes, groups=self.groups,\n",
        "                                base_width=self.base_width, dilation=self.dilation,\n",
        "                                norm_layer=norm_layer, quantize=self.quantize))\n",
        "\n",
        "        return nn.Sequential(*layers)\n",
        "\n",
        "    def _forward_impl(self, x):\n",
        "        # Input are quantized\n",
        "        if self.quantize:\n",
        "            x = self.quant(x)\n",
        "\n",
        "        x = self.conv1(x)\n",
        "        x = self.bn1(x)\n",
        "        x = self.relu(x)\n",
        "        x = self.maxpool(x)\n",
        "\n",
        "        x = self.layer1(x)\n",
        "        x = self.layer2(x)\n",
        "        x = self.layer3(x)\n",
        "        x = self.layer4(x)\n",
        "\n",
        "        x = self.avgpool(x)\n",
        "        x = torch.flatten(x, 1)\n",
        "        x = self.fc(x)\n",
        "\n",
        "        # Outputs are dequantized\n",
        "        if self.quantize:\n",
        "            x = self.dequant(x)\n",
        "\n",
        "        return x\n",
        "\n",
        "    def forward(self, x):\n",
        "         # See note [TorchScript super()]\n",
        "        return self._forward_impl(x)"
      ]
    },
    {
      "cell_type": "markdown",
      "metadata": {
        "id": "VrSAbBiLoxmA"
      },
      "source": [
        "### Training the model"
      ]
    },
    {
      "cell_type": "code",
      "execution_count": 6,
      "metadata": {
        "id": "JkzvGI9PoxmC"
      },
      "outputs": [],
      "source": [
        "def train(args, model, device, train_loader, optimizer, epoch):\n",
        "    \"\"\" Train the model with given dataset\n",
        "\n",
        "    Args:\n",
        "        args: args like log interval\n",
        "        model: ResNet model to train\n",
        "        device: CPU/GPU\n",
        "        train_loader: dataset iterator\n",
        "        optimizer: optimizer to update weights\n",
        "        epoch: number of epochs to train for\n",
        "    \"\"\"\n",
        "    model.train()\n",
        "    for batch_idx, (data, target) in enumerate(train_loader):\n",
        "        data, target = data.to(device), target.to(device)\n",
        "        optimizer.zero_grad()\n",
        "        output = model(data)\n",
        "        loss = F.nll_loss(F.log_softmax(output, dim=-1), target)\n",
        "        loss.backward()\n",
        "        optimizer.step()\n",
        "\n",
        "        if batch_idx % args[\"log_interval\"] == 0:\n",
        "            print('Train Epoch: {} [{}/{} ({:.0f}%)]\\tLoss: {:.6f}'.format(\n",
        "                epoch, batch_idx * len(data), len(train_loader.dataset),\n",
        "                100. * batch_idx / len(train_loader), loss.item()))"
      ]
    },
    {
      "cell_type": "code",
      "execution_count": 7,
      "metadata": {
        "id": "T43ty-l4oxmD",
        "outputId": "788860c1-0e9e-45e9-a39b-88faaef331a1",
        "colab": {
          "base_uri": "https://localhost:8080/"
        }
      },
      "outputs": [
        {
          "output_type": "stream",
          "name": "stdout",
          "text": [
            "Train Epoch: 1 [0/60000 (0%)]\tLoss: 2.695873\n",
            "Train Epoch: 1 [32000/60000 (53%)]\tLoss: 0.132841\n",
            "Train Epoch: 2 [0/60000 (0%)]\tLoss: 0.052665\n",
            "Train Epoch: 2 [32000/60000 (53%)]\tLoss: 0.057373\n",
            "Train Epoch: 3 [0/60000 (0%)]\tLoss: 0.012459\n",
            "Train Epoch: 3 [32000/60000 (53%)]\tLoss: 0.004121\n",
            "Train Epoch: 4 [0/60000 (0%)]\tLoss: 0.013541\n",
            "Train Epoch: 4 [32000/60000 (53%)]\tLoss: 0.002032\n",
            "Train Epoch: 5 [0/60000 (0%)]\tLoss: 0.004489\n",
            "Train Epoch: 5 [32000/60000 (53%)]\tLoss: 0.012433\n",
            "Train Epoch: 6 [0/60000 (0%)]\tLoss: 0.002222\n",
            "Train Epoch: 6 [32000/60000 (53%)]\tLoss: 0.004918\n",
            "Train Epoch: 7 [0/60000 (0%)]\tLoss: 0.002684\n",
            "Train Epoch: 7 [32000/60000 (53%)]\tLoss: 0.002323\n",
            "Train Epoch: 8 [0/60000 (0%)]\tLoss: 0.005141\n",
            "Train Epoch: 8 [32000/60000 (53%)]\tLoss: 0.000297\n",
            "Train Epoch: 9 [0/60000 (0%)]\tLoss: 0.001448\n",
            "Train Epoch: 9 [32000/60000 (53%)]\tLoss: 0.000110\n",
            "Train Epoch: 10 [0/60000 (0%)]\tLoss: 0.001693\n",
            "Train Epoch: 10 [32000/60000 (53%)]\tLoss: 0.000202\n"
          ]
        }
      ],
      "source": [
        "def main():\n",
        "\n",
        "    batch_size = 64\n",
        "    epochs = 10\n",
        "    lr = 0.01\n",
        "    momentum = 0.5\n",
        "    seed = 1\n",
        "    log_interval = 500\n",
        "    save_model = True\n",
        "    no_cuda = False\n",
        "\n",
        "    use_cuda = not no_cuda and torch.cuda.is_available()\n",
        "    torch.manual_seed(seed)\n",
        "    device = torch.device(\"cuda\" if use_cuda else \"cpu\")\n",
        "    model = ResNet(num_classes=10, mnist=True).to(device)\n",
        "    optimizer = torch.optim.SGD(model.parameters(), lr=lr, momentum=momentum)\n",
        "    args = {}\n",
        "    args[\"log_interval\"] = log_interval\n",
        "    for epoch in range(1, epochs + 1):\n",
        "        train(args, model, device, train_loader, optimizer, epoch)\n",
        "\n",
        "    if (save_model):\n",
        "        torch.save(model.state_dict(),\"mnist_cnn.pt\")\n",
        "\n",
        "main()"
      ]
    },
    {
      "cell_type": "markdown",
      "metadata": {
        "id": "vjdyvBqFoxmE"
      },
      "source": [
        "### Testing"
      ]
    },
    {
      "cell_type": "code",
      "execution_count": 8,
      "metadata": {
        "id": "jQN8V0uNoxmF"
      },
      "outputs": [],
      "source": [
        "def print_size_of_model(model):\n",
        "    \"\"\" Print the size of the model.\n",
        "\n",
        "    Args:\n",
        "        model: model whose size needs to be determined\n",
        "\n",
        "    \"\"\"\n",
        "    torch.save(model.state_dict(), \"temp.p\")\n",
        "    print('Size of the model(MB):', os.path.getsize(\"temp.p\")/1e6)\n",
        "    os.remove('temp.p')"
      ]
    },
    {
      "cell_type": "code",
      "execution_count": 9,
      "metadata": {
        "id": "9s1Inch1oxmG"
      },
      "outputs": [],
      "source": [
        "def test(model, device, test_loader, quantize=False, fbgemm=False):\n",
        "    model.to(device)\n",
        "    model.eval()\n",
        "\n",
        "    # Testing with qauntization if quantize=True\n",
        "    if quantize:\n",
        "        modules_to_fuse = [['conv1', 'bn1'],\n",
        "                   ['layer1.0.conv1', 'layer1.0.bn1'],\n",
        "                   ['layer1.0.conv2', 'layer1.0.bn2'],\n",
        "                   ['layer1.1.conv1', 'layer1.1.bn1'],\n",
        "                   ['layer1.1.conv2', 'layer1.1.bn2'],\n",
        "                   ['layer2.0.conv1', 'layer2.0.bn1'],\n",
        "                   ['layer2.0.conv2', 'layer2.0.bn2'],\n",
        "                   ['layer2.0.downsample.0', 'layer2.0.downsample.1'],\n",
        "                   ['layer2.1.conv1', 'layer2.1.bn1'],\n",
        "                   ['layer2.1.conv2', 'layer2.1.bn2'],\n",
        "                   ['layer3.0.conv1', 'layer3.0.bn1'],\n",
        "                   ['layer3.0.conv2', 'layer3.0.bn2'],\n",
        "                   ['layer3.0.downsample.0', 'layer3.0.downsample.1'],\n",
        "                   ['layer3.1.conv1', 'layer3.1.bn1'],\n",
        "                   ['layer3.1.conv2', 'layer3.1.bn2'],\n",
        "                   ['layer4.0.conv1', 'layer4.0.bn1'],\n",
        "                   ['layer4.0.conv2', 'layer4.0.bn2'],\n",
        "                   ['layer4.0.downsample.0', 'layer4.0.downsample.1'],\n",
        "                   ['layer4.1.conv1', 'layer4.1.bn1'],\n",
        "                   ['layer4.1.conv2', 'layer4.1.bn2']]\n",
        "        model = torch.quantization.fuse_modules(model, modules_to_fuse)\n",
        "        if fbgemm:\n",
        "            model.qconfig = torch.quantization.get_default_qconfig('fbgemm')\n",
        "        else:\n",
        "            model.qconfig = torch.quantization.default_qconfig\n",
        "        torch.quantization.prepare(model, inplace=True)\n",
        "        model.eval()\n",
        "        with torch.no_grad():\n",
        "            for data, target in train_loader:\n",
        "                model(data)\n",
        "        torch.quantization.convert(model, inplace=True)\n",
        "\n",
        "    print(model)\n",
        "    test_loss = 0\n",
        "    correct = 0\n",
        "    with torch.no_grad():\n",
        "        for data, target in test_loader:\n",
        "            data, target = data.to(device), target.to(device)\n",
        "            st = time.time()\n",
        "            output = model(data)\n",
        "            et = time.time()\n",
        "            test_loss += F.nll_loss(F.log_softmax(output, dim=-1), target, reduction='sum').item() # sum up batch loss\n",
        "            pred = output.argmax(dim=1, keepdim=True) # get the index of the max log-probability\n",
        "            correct += pred.eq(target.view_as(pred)).sum().item()\n",
        "\n",
        "    test_loss /= len(test_loader.dataset)\n",
        "\n",
        "    print(\"========================================= PERFORMANCE =============================================\")\n",
        "    print_size_of_model(model)\n",
        "    print('\\nTest set: Average loss: {:.4f}, Accuracy: {}/{} ({:.0f}%)\\n'.format(\n",
        "        test_loss, correct, len(test_loader.dataset),\n",
        "        100. * correct / len(test_loader.dataset)))\n",
        "    print('Elapsed time = {:0.4f} milliseconds'.format((et - st) * 1000))\n",
        "    print(\"====================================================================================================\")"
      ]
    },
    {
      "cell_type": "markdown",
      "metadata": {
        "id": "yAirOdrsoxmG"
      },
      "source": [
        "### ResNet18 Model Performance (UnQuantized - Model)"
      ]
    },
    {
      "cell_type": "code",
      "execution_count": 10,
      "metadata": {
        "id": "PECLma1KoxmH",
        "outputId": "c55a8d57-3e61-4117-90f7-2d943c73c5da",
        "colab": {
          "base_uri": "https://localhost:8080/"
        }
      },
      "outputs": [
        {
          "output_type": "stream",
          "name": "stdout",
          "text": [
            "ResNet(\n",
            "  (conv1): Conv2d(1, 64, kernel_size=(7, 7), stride=(2, 2), padding=(3, 3), bias=False)\n",
            "  (bn1): BatchNorm2d(64, eps=1e-05, momentum=0.1, affine=True, track_running_stats=True)\n",
            "  (relu): ReLU(inplace=True)\n",
            "  (maxpool): MaxPool2d(kernel_size=3, stride=2, padding=1, dilation=1, ceil_mode=False)\n",
            "  (layer1): Sequential(\n",
            "    (0): BasicBlock(\n",
            "      (conv1): Conv2d(64, 64, kernel_size=(3, 3), stride=(1, 1), padding=(1, 1), bias=False)\n",
            "      (bn1): BatchNorm2d(64, eps=1e-05, momentum=0.1, affine=True, track_running_stats=True)\n",
            "      (relu): ReLU(inplace=True)\n",
            "      (conv2): Conv2d(64, 64, kernel_size=(3, 3), stride=(1, 1), padding=(1, 1), bias=False)\n",
            "      (bn2): BatchNorm2d(64, eps=1e-05, momentum=0.1, affine=True, track_running_stats=True)\n",
            "      (skip_add): FloatFunctional(\n",
            "        (activation_post_process): Identity()\n",
            "      )\n",
            "    )\n",
            "    (1): BasicBlock(\n",
            "      (conv1): Conv2d(64, 64, kernel_size=(3, 3), stride=(1, 1), padding=(1, 1), bias=False)\n",
            "      (bn1): BatchNorm2d(64, eps=1e-05, momentum=0.1, affine=True, track_running_stats=True)\n",
            "      (relu): ReLU(inplace=True)\n",
            "      (conv2): Conv2d(64, 64, kernel_size=(3, 3), stride=(1, 1), padding=(1, 1), bias=False)\n",
            "      (bn2): BatchNorm2d(64, eps=1e-05, momentum=0.1, affine=True, track_running_stats=True)\n",
            "      (skip_add): FloatFunctional(\n",
            "        (activation_post_process): Identity()\n",
            "      )\n",
            "    )\n",
            "  )\n",
            "  (layer2): Sequential(\n",
            "    (0): BasicBlock(\n",
            "      (conv1): Conv2d(64, 128, kernel_size=(3, 3), stride=(2, 2), padding=(1, 1), bias=False)\n",
            "      (bn1): BatchNorm2d(128, eps=1e-05, momentum=0.1, affine=True, track_running_stats=True)\n",
            "      (relu): ReLU(inplace=True)\n",
            "      (conv2): Conv2d(128, 128, kernel_size=(3, 3), stride=(1, 1), padding=(1, 1), bias=False)\n",
            "      (bn2): BatchNorm2d(128, eps=1e-05, momentum=0.1, affine=True, track_running_stats=True)\n",
            "      (downsample): Sequential(\n",
            "        (0): Conv2d(64, 128, kernel_size=(1, 1), stride=(2, 2), bias=False)\n",
            "        (1): BatchNorm2d(128, eps=1e-05, momentum=0.1, affine=True, track_running_stats=True)\n",
            "      )\n",
            "      (skip_add): FloatFunctional(\n",
            "        (activation_post_process): Identity()\n",
            "      )\n",
            "    )\n",
            "    (1): BasicBlock(\n",
            "      (conv1): Conv2d(128, 128, kernel_size=(3, 3), stride=(1, 1), padding=(1, 1), bias=False)\n",
            "      (bn1): BatchNorm2d(128, eps=1e-05, momentum=0.1, affine=True, track_running_stats=True)\n",
            "      (relu): ReLU(inplace=True)\n",
            "      (conv2): Conv2d(128, 128, kernel_size=(3, 3), stride=(1, 1), padding=(1, 1), bias=False)\n",
            "      (bn2): BatchNorm2d(128, eps=1e-05, momentum=0.1, affine=True, track_running_stats=True)\n",
            "      (skip_add): FloatFunctional(\n",
            "        (activation_post_process): Identity()\n",
            "      )\n",
            "    )\n",
            "  )\n",
            "  (layer3): Sequential(\n",
            "    (0): BasicBlock(\n",
            "      (conv1): Conv2d(128, 256, kernel_size=(3, 3), stride=(2, 2), padding=(1, 1), bias=False)\n",
            "      (bn1): BatchNorm2d(256, eps=1e-05, momentum=0.1, affine=True, track_running_stats=True)\n",
            "      (relu): ReLU(inplace=True)\n",
            "      (conv2): Conv2d(256, 256, kernel_size=(3, 3), stride=(1, 1), padding=(1, 1), bias=False)\n",
            "      (bn2): BatchNorm2d(256, eps=1e-05, momentum=0.1, affine=True, track_running_stats=True)\n",
            "      (downsample): Sequential(\n",
            "        (0): Conv2d(128, 256, kernel_size=(1, 1), stride=(2, 2), bias=False)\n",
            "        (1): BatchNorm2d(256, eps=1e-05, momentum=0.1, affine=True, track_running_stats=True)\n",
            "      )\n",
            "      (skip_add): FloatFunctional(\n",
            "        (activation_post_process): Identity()\n",
            "      )\n",
            "    )\n",
            "    (1): BasicBlock(\n",
            "      (conv1): Conv2d(256, 256, kernel_size=(3, 3), stride=(1, 1), padding=(1, 1), bias=False)\n",
            "      (bn1): BatchNorm2d(256, eps=1e-05, momentum=0.1, affine=True, track_running_stats=True)\n",
            "      (relu): ReLU(inplace=True)\n",
            "      (conv2): Conv2d(256, 256, kernel_size=(3, 3), stride=(1, 1), padding=(1, 1), bias=False)\n",
            "      (bn2): BatchNorm2d(256, eps=1e-05, momentum=0.1, affine=True, track_running_stats=True)\n",
            "      (skip_add): FloatFunctional(\n",
            "        (activation_post_process): Identity()\n",
            "      )\n",
            "    )\n",
            "  )\n",
            "  (layer4): Sequential(\n",
            "    (0): BasicBlock(\n",
            "      (conv1): Conv2d(256, 512, kernel_size=(3, 3), stride=(2, 2), padding=(1, 1), bias=False)\n",
            "      (bn1): BatchNorm2d(512, eps=1e-05, momentum=0.1, affine=True, track_running_stats=True)\n",
            "      (relu): ReLU(inplace=True)\n",
            "      (conv2): Conv2d(512, 512, kernel_size=(3, 3), stride=(1, 1), padding=(1, 1), bias=False)\n",
            "      (bn2): BatchNorm2d(512, eps=1e-05, momentum=0.1, affine=True, track_running_stats=True)\n",
            "      (downsample): Sequential(\n",
            "        (0): Conv2d(256, 512, kernel_size=(1, 1), stride=(2, 2), bias=False)\n",
            "        (1): BatchNorm2d(512, eps=1e-05, momentum=0.1, affine=True, track_running_stats=True)\n",
            "      )\n",
            "      (skip_add): FloatFunctional(\n",
            "        (activation_post_process): Identity()\n",
            "      )\n",
            "    )\n",
            "    (1): BasicBlock(\n",
            "      (conv1): Conv2d(512, 512, kernel_size=(3, 3), stride=(1, 1), padding=(1, 1), bias=False)\n",
            "      (bn1): BatchNorm2d(512, eps=1e-05, momentum=0.1, affine=True, track_running_stats=True)\n",
            "      (relu): ReLU(inplace=True)\n",
            "      (conv2): Conv2d(512, 512, kernel_size=(3, 3), stride=(1, 1), padding=(1, 1), bias=False)\n",
            "      (bn2): BatchNorm2d(512, eps=1e-05, momentum=0.1, affine=True, track_running_stats=True)\n",
            "      (skip_add): FloatFunctional(\n",
            "        (activation_post_process): Identity()\n",
            "      )\n",
            "    )\n",
            "  )\n",
            "  (avgpool): AdaptiveAvgPool2d(output_size=(1, 1))\n",
            "  (fc): Linear(in_features=512, out_features=10, bias=True)\n",
            "  (quant): QuantStub()\n",
            "  (dequant): DeQuantStub()\n",
            ")\n",
            "========================================= PERFORMANCE =============================================\n",
            "Size of the model(MB): 44.772185\n",
            "\n",
            "Test set: Average loss: 0.0228, Accuracy: 9928/10000 (99%)\n",
            "\n",
            "Elapsed time = 55.4283 milliseconds\n",
            "====================================================================================================\n"
          ]
        }
      ],
      "source": [
        "device = 'cpu'\n",
        "encoder = ResNet(num_classes=10, mnist=True)\n",
        "loaded_dict_enc = torch.load('mnist_cnn.pt', map_location=device)\n",
        "encoder.load_state_dict(loaded_dict_enc)\n",
        "test(model=encoder, device=device, test_loader=test_loader)"
      ]
    },
    {
      "cell_type": "markdown",
      "metadata": {
        "id": "6SES_4gmoxmH"
      },
      "source": [
        "### Quantized Model Performance"
      ]
    },
    {
      "cell_type": "code",
      "execution_count": 11,
      "metadata": {
        "id": "LSSvdaR6oxmH",
        "outputId": "e65b7909-0292-49ce-9322-f0424add1da9",
        "colab": {
          "base_uri": "https://localhost:8080/"
        }
      },
      "outputs": [
        {
          "output_type": "stream",
          "name": "stdout",
          "text": [
            "ResNet(\n",
            "  (conv1): QuantizedConv2d(1, 64, kernel_size=(7, 7), stride=(2, 2), scale=0.11828271299600601, zero_point=58, padding=(3, 3))\n",
            "  (bn1): Identity()\n",
            "  (relu): ReLU(inplace=True)\n",
            "  (maxpool): MaxPool2d(kernel_size=3, stride=2, padding=1, dilation=1, ceil_mode=False)\n",
            "  (layer1): Sequential(\n",
            "    (0): BasicBlock(\n",
            "      (conv1): QuantizedConv2d(64, 64, kernel_size=(3, 3), stride=(1, 1), scale=0.09642057120800018, zero_point=61, padding=(1, 1))\n",
            "      (bn1): Identity()\n",
            "      (relu): ReLU(inplace=True)\n",
            "      (conv2): QuantizedConv2d(64, 64, kernel_size=(3, 3), stride=(1, 1), scale=0.09721983969211578, zero_point=63, padding=(1, 1))\n",
            "      (bn2): Identity()\n",
            "      (skip_add): QFunctional(\n",
            "        scale=0.1446751207113266, zero_point=43\n",
            "        (activation_post_process): Identity()\n",
            "      )\n",
            "    )\n",
            "    (1): BasicBlock(\n",
            "      (conv1): QuantizedConv2d(64, 64, kernel_size=(3, 3), stride=(1, 1), scale=0.09692227840423584, zero_point=63, padding=(1, 1))\n",
            "      (bn1): Identity()\n",
            "      (relu): ReLU(inplace=True)\n",
            "      (conv2): QuantizedConv2d(64, 64, kernel_size=(3, 3), stride=(1, 1), scale=0.12229526787996292, zero_point=66, padding=(1, 1))\n",
            "      (bn2): Identity()\n",
            "      (skip_add): QFunctional(\n",
            "        scale=0.2075231671333313, zero_point=39\n",
            "        (activation_post_process): Identity()\n",
            "      )\n",
            "    )\n",
            "  )\n",
            "  (layer2): Sequential(\n",
            "    (0): BasicBlock(\n",
            "      (conv1): QuantizedConv2d(64, 128, kernel_size=(3, 3), stride=(2, 2), scale=0.10783033818006516, zero_point=63, padding=(1, 1))\n",
            "      (bn1): Identity()\n",
            "      (relu): ReLU(inplace=True)\n",
            "      (conv2): QuantizedConv2d(128, 128, kernel_size=(3, 3), stride=(1, 1), scale=0.10096783190965652, zero_point=61, padding=(1, 1))\n",
            "      (bn2): Identity()\n",
            "      (downsample): Sequential(\n",
            "        (0): QuantizedConv2d(64, 128, kernel_size=(1, 1), stride=(2, 2), scale=0.11273517459630966, zero_point=63)\n",
            "        (1): Identity()\n",
            "      )\n",
            "      (skip_add): QFunctional(\n",
            "        scale=0.15570050477981567, zero_point=63\n",
            "        (activation_post_process): Identity()\n",
            "      )\n",
            "    )\n",
            "    (1): BasicBlock(\n",
            "      (conv1): QuantizedConv2d(128, 128, kernel_size=(3, 3), stride=(1, 1), scale=0.1020238995552063, zero_point=63, padding=(1, 1))\n",
            "      (bn1): Identity()\n",
            "      (relu): ReLU(inplace=True)\n",
            "      (conv2): QuantizedConv2d(128, 128, kernel_size=(3, 3), stride=(1, 1), scale=0.10660740733146667, zero_point=64, padding=(1, 1))\n",
            "      (bn2): Identity()\n",
            "      (skip_add): QFunctional(\n",
            "        scale=0.15015369653701782, zero_point=44\n",
            "        (activation_post_process): Identity()\n",
            "      )\n",
            "    )\n",
            "  )\n",
            "  (layer3): Sequential(\n",
            "    (0): BasicBlock(\n",
            "      (conv1): QuantizedConv2d(128, 256, kernel_size=(3, 3), stride=(2, 2), scale=0.10027533769607544, zero_point=65, padding=(1, 1))\n",
            "      (bn1): Identity()\n",
            "      (relu): ReLU(inplace=True)\n",
            "      (conv2): QuantizedConv2d(256, 256, kernel_size=(3, 3), stride=(1, 1), scale=0.08639613538980484, zero_point=65, padding=(1, 1))\n",
            "      (bn2): Identity()\n",
            "      (downsample): Sequential(\n",
            "        (0): QuantizedConv2d(128, 256, kernel_size=(1, 1), stride=(2, 2), scale=0.10959188640117645, zero_point=63)\n",
            "        (1): Identity()\n",
            "      )\n",
            "      (skip_add): QFunctional(\n",
            "        scale=0.1371934562921524, zero_point=63\n",
            "        (activation_post_process): Identity()\n",
            "      )\n",
            "    )\n",
            "    (1): BasicBlock(\n",
            "      (conv1): QuantizedConv2d(256, 256, kernel_size=(3, 3), stride=(1, 1), scale=0.08062662929296494, zero_point=64, padding=(1, 1))\n",
            "      (bn1): Identity()\n",
            "      (relu): ReLU(inplace=True)\n",
            "      (conv2): QuantizedConv2d(256, 256, kernel_size=(3, 3), stride=(1, 1), scale=0.0839902013540268, zero_point=59, padding=(1, 1))\n",
            "      (bn2): Identity()\n",
            "      (skip_add): QFunctional(\n",
            "        scale=0.11609012633562088, zero_point=42\n",
            "        (activation_post_process): Identity()\n",
            "      )\n",
            "    )\n",
            "  )\n",
            "  (layer4): Sequential(\n",
            "    (0): BasicBlock(\n",
            "      (conv1): QuantizedConv2d(256, 512, kernel_size=(3, 3), stride=(2, 2), scale=0.08436299115419388, zero_point=62, padding=(1, 1))\n",
            "      (bn1): Identity()\n",
            "      (relu): ReLU(inplace=True)\n",
            "      (conv2): QuantizedConv2d(512, 512, kernel_size=(3, 3), stride=(1, 1), scale=0.08087999373674393, zero_point=61, padding=(1, 1))\n",
            "      (bn2): Identity()\n",
            "      (downsample): Sequential(\n",
            "        (0): QuantizedConv2d(256, 512, kernel_size=(1, 1), stride=(2, 2), scale=0.0902276262640953, zero_point=58)\n",
            "        (1): Identity()\n",
            "      )\n",
            "      (skip_add): QFunctional(\n",
            "        scale=0.12792186439037323, zero_point=63\n",
            "        (activation_post_process): Identity()\n",
            "      )\n",
            "    )\n",
            "    (1): BasicBlock(\n",
            "      (conv1): QuantizedConv2d(512, 512, kernel_size=(3, 3), stride=(1, 1), scale=0.08940800279378891, zero_point=68, padding=(1, 1))\n",
            "      (bn1): Identity()\n",
            "      (relu): ReLU(inplace=True)\n",
            "      (conv2): QuantizedConv2d(512, 512, kernel_size=(3, 3), stride=(1, 1), scale=0.08693502098321915, zero_point=64, padding=(1, 1))\n",
            "      (bn2): Identity()\n",
            "      (skip_add): QFunctional(\n",
            "        scale=0.1331409364938736, zero_point=42\n",
            "        (activation_post_process): Identity()\n",
            "      )\n",
            "    )\n",
            "  )\n",
            "  (avgpool): AdaptiveAvgPool2d(output_size=(1, 1))\n",
            "  (fc): QuantizedLinear(in_features=512, out_features=10, scale=0.2530735433101654, zero_point=34, qscheme=torch.per_tensor_affine)\n",
            "  (quant): Quantize(scale=tensor([0.0256]), zero_point=tensor([17]), dtype=torch.quint8)\n",
            "  (dequant): DeQuantize()\n",
            ")\n",
            "========================================= PERFORMANCE =============================================\n",
            "Size of the model(MB): 11.215677\n",
            "\n",
            "Test set: Average loss: 0.0244, Accuracy: 9925/10000 (99%)\n",
            "\n",
            "Elapsed time = 13.9163 milliseconds\n",
            "====================================================================================================\n"
          ]
        }
      ],
      "source": [
        "device = 'cpu'\n",
        "encoder = ResNet(num_classes=10, mnist=True, quantize=True)\n",
        "loaded_dict_enc = torch.load('mnist_cnn.pt', map_location=device)\n",
        "encoder.load_state_dict(loaded_dict_enc)\n",
        "test(model=encoder, device=device, test_loader=test_loader, quantize=True)"
      ]
    },
    {
      "cell_type": "code",
      "source": [
        "\n"
      ],
      "metadata": {
        "id": "LPz3ATdkqJ-X"
      },
      "execution_count": 11,
      "outputs": []
    },
    {
      "cell_type": "code",
      "source": [],
      "metadata": {
        "id": "R79wEmJOveKR"
      },
      "execution_count": 11,
      "outputs": []
    }
  ],
  "metadata": {
    "kernelspec": {
      "display_name": "Python 3",
      "name": "python3"
    },
    "language_info": {
      "codemirror_mode": {
        "name": "ipython",
        "version": 3
      },
      "file_extension": ".py",
      "mimetype": "text/x-python",
      "name": "python",
      "nbconvert_exporter": "python",
      "pygments_lexer": "ipython3",
      "version": "3.6.9"
    },
    "colab": {
      "provenance": [],
      "gpuType": "T4"
    },
    "accelerator": "GPU"
  },
  "nbformat": 4,
  "nbformat_minor": 0
}